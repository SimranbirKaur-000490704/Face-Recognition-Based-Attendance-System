{
 "cells": [
  {
   "cell_type": "code",
   "execution_count": 1,
   "metadata": {},
   "outputs": [
    {
     "name": "stdout",
     "output_type": "stream",
     "text": [
      "Note: you may need to restart the kernel to use updated packages.\n"
     ]
    },
    {
     "name": "stderr",
     "output_type": "stream",
     "text": [
      "WARNING: Package(s) not found: videoCapture\n"
     ]
    }
   ],
   "source": [
    "pip install videoCapture"
   ]
  },
  {
   "cell_type": "code",
   "execution_count": 2,
   "metadata": {},
   "outputs": [
    {
     "name": "stdout",
     "output_type": "stream",
     "text": [
      "Collecting numpy\n",
      "  Downloading numpy-1.26.4-cp310-cp310-win_amd64.whl.metadata (61 kB)\n",
      "     ---------------------------------------- 0.0/61.0 kB ? eta -:--:--\n",
      "     --------------------------------- ------ 51.2/61.0 kB 2.6 MB/s eta 0:00:01\n",
      "     ---------------------------------------- 61.0/61.0 kB 1.1 MB/s eta 0:00:00\n",
      "Downloading numpy-1.26.4-cp310-cp310-win_amd64.whl (15.8 MB)\n",
      "   ---------------------------------------- 0.0/15.8 MB ? eta -:--:--\n",
      "    --------------------------------------- 0.3/15.8 MB 5.8 MB/s eta 0:00:03\n",
      "   - -------------------------------------- 0.6/15.8 MB 6.2 MB/s eta 0:00:03\n",
      "   -- ------------------------------------- 1.1/15.8 MB 7.8 MB/s eta 0:00:02\n",
      "   ---- ----------------------------------- 1.6/15.8 MB 8.4 MB/s eta 0:00:02\n",
      "   ----- ---------------------------------- 2.1/15.8 MB 9.0 MB/s eta 0:00:02\n",
      "   ------ --------------------------------- 2.5/15.8 MB 9.6 MB/s eta 0:00:02\n",
      "   -------- ------------------------------- 3.2/15.8 MB 10.1 MB/s eta 0:00:02\n",
      "   --------- ------------------------------ 3.7/15.8 MB 10.2 MB/s eta 0:00:02\n",
      "   ---------- ----------------------------- 4.2/15.8 MB 10.2 MB/s eta 0:00:02\n",
      "   ----------- ---------------------------- 4.6/15.8 MB 10.6 MB/s eta 0:00:02\n",
      "   ------------ --------------------------- 5.1/15.8 MB 10.5 MB/s eta 0:00:02\n",
      "   -------------- ------------------------- 5.6/15.8 MB 10.6 MB/s eta 0:00:01\n",
      "   --------------- ------------------------ 6.1/15.8 MB 10.8 MB/s eta 0:00:01\n",
      "   ---------------- ----------------------- 6.6/15.8 MB 10.8 MB/s eta 0:00:01\n",
      "   ----------------- ---------------------- 7.1/15.8 MB 11.0 MB/s eta 0:00:01\n",
      "   ------------------- -------------------- 7.5/15.8 MB 10.9 MB/s eta 0:00:01\n",
      "   -------------------- ------------------- 8.0/15.8 MB 11.1 MB/s eta 0:00:01\n",
      "   --------------------- ------------------ 8.5/15.8 MB 11.1 MB/s eta 0:00:01\n",
      "   ---------------------- ----------------- 9.0/15.8 MB 11.0 MB/s eta 0:00:01\n",
      "   ----------------------- ---------------- 9.5/15.8 MB 11.2 MB/s eta 0:00:01\n",
      "   ------------------------- -------------- 10.0/15.8 MB 11.2 MB/s eta 0:00:01\n",
      "   -------------------------- ------------- 10.5/15.8 MB 11.5 MB/s eta 0:00:01\n",
      "   --------------------------- ------------ 10.9/15.8 MB 11.9 MB/s eta 0:00:01\n",
      "   ---------------------------- ----------- 11.4/15.8 MB 11.9 MB/s eta 0:00:01\n",
      "   ------------------------------ --------- 11.9/15.8 MB 11.7 MB/s eta 0:00:01\n",
      "   ------------------------------- -------- 12.4/15.8 MB 11.9 MB/s eta 0:00:01\n",
      "   -------------------------------- ------- 12.9/15.8 MB 11.9 MB/s eta 0:00:01\n",
      "   --------------------------------- ------ 13.4/15.8 MB 11.7 MB/s eta 0:00:01\n",
      "   ----------------------------------- ---- 13.9/15.8 MB 11.9 MB/s eta 0:00:01\n",
      "   ------------------------------------ --- 14.4/15.8 MB 11.9 MB/s eta 0:00:01\n",
      "   ------------------------------------- -- 14.9/15.8 MB 11.7 MB/s eta 0:00:01\n",
      "   ---------------------------------------  15.4/15.8 MB 11.7 MB/s eta 0:00:01\n",
      "   ---------------------------------------  15.8/15.8 MB 11.7 MB/s eta 0:00:01\n",
      "   ---------------------------------------- 15.8/15.8 MB 11.3 MB/s eta 0:00:00\n",
      "Installing collected packages: numpy\n",
      "Successfully installed numpy-1.26.4\n",
      "Note: you may need to restart the kernel to use updated packages.\n"
     ]
    }
   ],
   "source": [
    "pip install --force-reinstall numpy"
   ]
  },
  {
   "cell_type": "code",
   "execution_count": 3,
   "metadata": {},
   "outputs": [
    {
     "name": "stdout",
     "output_type": "stream",
     "text": [
      "Requirement already satisfied: pip in c:\\users\\sagar\\appdata\\local\\packages\\pythonsoftwarefoundation.python.3.10_qbz5n2kfra8p0\\localcache\\local-packages\\python310\\site-packages (24.0)\n",
      "Requirement already satisfied: setuptools in c:\\program files\\windowsapps\\pythonsoftwarefoundation.python.3.10_3.10.3056.0_x64__qbz5n2kfra8p0\\lib\\site-packages (65.5.0)\n",
      "Collecting setuptools\n",
      "  Downloading setuptools-69.2.0-py3-none-any.whl.metadata (6.3 kB)\n",
      "Downloading setuptools-69.2.0-py3-none-any.whl (821 kB)\n",
      "   ---------------------------------------- 0.0/821.5 kB ? eta -:--:--\n",
      "   ---- ----------------------------------- 92.2/821.5 kB 2.6 MB/s eta 0:00:01\n",
      "   ------------- -------------------------- 286.7/821.5 kB 3.5 MB/s eta 0:00:01\n",
      "   -------------------------- ------------- 553.0/821.5 kB 5.0 MB/s eta 0:00:01\n",
      "   ---------------------------------------- 821.5/821.5 kB 5.2 MB/s eta 0:00:00\n",
      "Installing collected packages: setuptools\n",
      "Successfully installed setuptools-69.2.0\n",
      "Note: you may need to restart the kernel to use updated packages.\n"
     ]
    }
   ],
   "source": [
    "pip install --upgrade pip setuptools"
   ]
  },
  {
   "cell_type": "code",
   "execution_count": 4,
   "metadata": {},
   "outputs": [
    {
     "name": "stdout",
     "output_type": "stream",
     "text": [
      "Files removed: 268\n",
      "Note: you may need to restart the kernel to use updated packages.\n"
     ]
    }
   ],
   "source": [
    "pip cache purge"
   ]
  },
  {
   "cell_type": "code",
   "execution_count": 1,
   "metadata": {},
   "outputs": [
    {
     "name": "stdout",
     "output_type": "stream",
     "text": [
      "Collecting numpy\n",
      "  Downloading numpy-1.26.4-cp39-cp39-win_amd64.whl (15.8 MB)\n",
      "     ---------------------------------------- 15.8/15.8 MB 7.3 MB/s eta 0:00:00\n",
      "Installing collected packages: numpy\n",
      "Successfully installed numpy-1.26.4\n",
      "Note: you may need to restart the kernel to use updated packages.\n"
     ]
    },
    {
     "name": "stderr",
     "output_type": "stream",
     "text": [
      "WARNING: You are using pip version 22.0.4; however, version 24.0 is available.\n",
      "You should consider upgrading via the 'C:\\Users\\sagar\\AppData\\Local\\Microsoft\\WindowsApps\\PythonSoftwareFoundation.Python.3.9_qbz5n2kfra8p0\\python.exe -m pip install --upgrade pip' command.\n"
     ]
    }
   ],
   "source": [
    "pip install numpy"
   ]
  },
  {
   "cell_type": "code",
   "execution_count": null,
   "metadata": {},
   "outputs": [
    {
     "name": "stdout",
     "output_type": "stream",
     "text": [
      "Collecting flask\n",
      "  Downloading flask-3.0.2-py3-none-any.whl.metadata (3.6 kB)\n",
      "Collecting Werkzeug>=3.0.0 (from flask)\n",
      "  Downloading werkzeug-3.0.1-py3-none-any.whl.metadata (4.1 kB)\n",
      "Collecting Jinja2>=3.1.2 (from flask)\n",
      "  Downloading Jinja2-3.1.3-py3-none-any.whl.metadata (3.3 kB)\n",
      "Collecting itsdangerous>=2.1.2 (from flask)\n",
      "  Downloading itsdangerous-2.1.2-py3-none-any.whl.metadata (2.9 kB)\n",
      "Collecting click>=8.1.3 (from flask)\n",
      "  Downloading click-8.1.7-py3-none-any.whl.metadata (3.0 kB)\n",
      "Collecting blinker>=1.6.2 (from flask)\n",
      "  Downloading blinker-1.7.0-py3-none-any.whl.metadata (1.9 kB)\n",
      "Requirement already satisfied: colorama in c:\\users\\sagar\\appdata\\local\\packages\\pythonsoftwarefoundation.python.3.10_qbz5n2kfra8p0\\localcache\\local-packages\\python310\\site-packages (from click>=8.1.3->flask) (0.4.6)\n",
      "Collecting MarkupSafe>=2.0 (from Jinja2>=3.1.2->flask)\n",
      "  Downloading MarkupSafe-2.1.5-cp310-cp310-win_amd64.whl.metadata (3.1 kB)\n",
      "Downloading flask-3.0.2-py3-none-any.whl (101 kB)\n",
      "   ---------------------------------------- 0.0/101.3 kB ? eta -:--:--\n",
      "   ------------------------ --------------- 61.4/101.3 kB 1.1 MB/s eta 0:00:01\n",
      "   ---------------------------------------- 101.3/101.3 kB 1.5 MB/s eta 0:00:00\n",
      "Downloading blinker-1.7.0-py3-none-any.whl (13 kB)\n",
      "Downloading click-8.1.7-py3-none-any.whl (97 kB)\n",
      "   ---------------------------------------- 0.0/97.9 kB ? eta -:--:--\n",
      "   ---------------------------------------- 97.9/97.9 kB 5.8 MB/s eta 0:00:00\n",
      "Downloading itsdangerous-2.1.2-py3-none-any.whl (15 kB)\n",
      "Downloading Jinja2-3.1.3-py3-none-any.whl (133 kB)\n",
      "   ---------------------------------------- 0.0/133.2 kB ? eta -:--:--\n",
      "   ---------------------------------------- 133.2/133.2 kB 2.7 MB/s eta 0:00:00\n",
      "Downloading werkzeug-3.0.1-py3-none-any.whl (226 kB)\n",
      "   ---------------------------------------- 0.0/226.7 kB ? eta -:--:--\n",
      "   ---------------------------------------- 226.7/226.7 kB 7.0 MB/s eta 0:00:00\n",
      "Downloading MarkupSafe-2.1.5-cp310-cp310-win_amd64.whl (17 kB)\n",
      "Installing collected packages: MarkupSafe, itsdangerous, click, blinker, Werkzeug, Jinja2, flask\n",
      "Successfully installed Jinja2-3.1.3 MarkupSafe-2.1.5 Werkzeug-3.0.1 blinker-1.7.0 click-8.1.7 flask-3.0.2 itsdangerous-2.1.2\n",
      "Note: you may need to restart the kernel to use updated packages.\n"
     ]
    }
   ],
   "source": [
    "pip install flask"
   ]
  },
  {
   "cell_type": "code",
   "execution_count": 2,
   "metadata": {},
   "outputs": [
    {
     "name": "stdout",
     "output_type": "stream",
     "text": [
      "Collecting flask\n",
      "  Downloading flask-3.0.2-py3-none-any.whl (101 kB)\n",
      "     -------------------------------------- 101.3/101.3 KB 1.4 MB/s eta 0:00:00\n",
      "Collecting click>=8.1.3\n",
      "  Downloading click-8.1.7-py3-none-any.whl (97 kB)\n",
      "     ---------------------------------------- 97.9/97.9 KB 5.5 MB/s eta 0:00:00\n",
      "Collecting itsdangerous>=2.1.2\n",
      "  Downloading itsdangerous-2.1.2-py3-none-any.whl (15 kB)\n",
      "Collecting blinker>=1.6.2\n",
      "  Downloading blinker-1.7.0-py3-none-any.whl (13 kB)\n",
      "Collecting Werkzeug>=3.0.0\n",
      "  Downloading werkzeug-3.0.1-py3-none-any.whl (226 kB)\n",
      "     -------------------------------------- 226.7/226.7 KB 4.6 MB/s eta 0:00:00\n",
      "Collecting Jinja2>=3.1.2\n",
      "  Downloading Jinja2-3.1.3-py3-none-any.whl (133 kB)\n",
      "     -------------------------------------- 133.2/133.2 KB 7.7 MB/s eta 0:00:00\n",
      "Requirement already satisfied: importlib-metadata>=3.6.0 in c:\\users\\sagar\\appdata\\local\\packages\\pythonsoftwarefoundation.python.3.9_qbz5n2kfra8p0\\localcache\\local-packages\\python39\\site-packages (from flask) (7.0.2)\n",
      "Requirement already satisfied: colorama in c:\\users\\sagar\\appdata\\local\\packages\\pythonsoftwarefoundation.python.3.9_qbz5n2kfra8p0\\localcache\\local-packages\\python39\\site-packages (from click>=8.1.3->flask) (0.4.6)\n",
      "Requirement already satisfied: zipp>=0.5 in c:\\users\\sagar\\appdata\\local\\packages\\pythonsoftwarefoundation.python.3.9_qbz5n2kfra8p0\\localcache\\local-packages\\python39\\site-packages (from importlib-metadata>=3.6.0->flask) (3.18.1)\n",
      "Collecting MarkupSafe>=2.0\n",
      "  Downloading MarkupSafe-2.1.5-cp39-cp39-win_amd64.whl (17 kB)\n",
      "Installing collected packages: MarkupSafe, itsdangerous, click, blinker, Werkzeug, Jinja2, flask\n",
      "Successfully installed Jinja2-3.1.3 MarkupSafe-2.1.5 Werkzeug-3.0.1 blinker-1.7.0 click-8.1.7 flask-3.0.2 itsdangerous-2.1.2\n",
      "Note: you may need to restart the kernel to use updated packages.\n"
     ]
    },
    {
     "name": "stderr",
     "output_type": "stream",
     "text": [
      "WARNING: You are using pip version 22.0.4; however, version 24.0 is available.\n",
      "You should consider upgrading via the 'C:\\Users\\sagar\\AppData\\Local\\Microsoft\\WindowsApps\\PythonSoftwareFoundation.Python.3.9_qbz5n2kfra8p0\\python.exe -m pip install --upgrade pip' command.\n"
     ]
    }
   ],
   "source": [
    "%pip install flask"
   ]
  },
  {
   "cell_type": "code",
   "execution_count": 8,
   "metadata": {},
   "outputs": [
    {
     "name": "stdout",
     "output_type": "stream",
     "text": [
      "Collecting Flask\n",
      "  Using cached flask-3.0.2-py3-none-any.whl.metadata (3.6 kB)\n",
      "Collecting Werkzeug>=3.0.0 (from Flask)\n",
      "  Using cached werkzeug-3.0.1-py3-none-any.whl.metadata (4.1 kB)\n",
      "Collecting Jinja2>=3.1.2 (from Flask)\n",
      "  Using cached Jinja2-3.1.3-py3-none-any.whl.metadata (3.3 kB)\n",
      "Collecting itsdangerous>=2.1.2 (from Flask)\n",
      "  Using cached itsdangerous-2.1.2-py3-none-any.whl.metadata (2.9 kB)\n",
      "Collecting click>=8.1.3 (from Flask)\n",
      "  Using cached click-8.1.7-py3-none-any.whl.metadata (3.0 kB)\n",
      "Collecting blinker>=1.6.2 (from Flask)\n",
      "  Using cached blinker-1.7.0-py3-none-any.whl.metadata (1.9 kB)\n",
      "Requirement already satisfied: importlib-metadata>=3.6.0 in c:\\users\\sagar\\appdata\\roaming\\python\\python39\\site-packages (from Flask) (7.0.2)\n",
      "Requirement already satisfied: colorama in c:\\users\\sagar\\appdata\\roaming\\python\\python39\\site-packages (from click>=8.1.3->Flask) (0.4.6)\n",
      "Requirement already satisfied: zipp>=0.5 in c:\\users\\sagar\\appdata\\roaming\\python\\python39\\site-packages (from importlib-metadata>=3.6.0->Flask) (3.18.1)\n",
      "Collecting MarkupSafe>=2.0 (from Jinja2>=3.1.2->Flask)\n",
      "  Using cached MarkupSafe-2.1.5-cp39-cp39-win_amd64.whl.metadata (3.1 kB)\n",
      "Using cached flask-3.0.2-py3-none-any.whl (101 kB)\n",
      "Using cached blinker-1.7.0-py3-none-any.whl (13 kB)\n",
      "Using cached click-8.1.7-py3-none-any.whl (97 kB)\n",
      "Using cached itsdangerous-2.1.2-py3-none-any.whl (15 kB)\n",
      "Using cached Jinja2-3.1.3-py3-none-any.whl (133 kB)\n",
      "Using cached werkzeug-3.0.1-py3-none-any.whl (226 kB)\n",
      "Using cached MarkupSafe-2.1.5-cp39-cp39-win_amd64.whl (17 kB)\n",
      "Installing collected packages: MarkupSafe, itsdangerous, click, blinker, Werkzeug, Jinja2, Flask\n",
      "Successfully installed Flask-3.0.2 Jinja2-3.1.3 MarkupSafe-2.1.5 Werkzeug-3.0.1 blinker-1.7.0 click-8.1.7 itsdangerous-2.1.2\n",
      "Note: you may need to restart the kernel to use updated packages.\n"
     ]
    }
   ],
   "source": [
    "pip install Flask"
   ]
  },
  {
   "cell_type": "code",
   "execution_count": 5,
   "metadata": {},
   "outputs": [
    {
     "name": "stdout",
     "output_type": "stream",
     "text": [
      "Requirement already satisfied: opencv-python in c:\\users\\sagar\\appdata\\local\\programs\\python\\python39\\lib\\site-packages (4.9.0.80)\n",
      "Requirement already satisfied: numpy>=1.17.0 in c:\\users\\sagar\\appdata\\local\\programs\\python\\python39\\lib\\site-packages (from opencv-python) (1.26.4)\n",
      "Note: you may need to restart the kernel to use updated packages.\n"
     ]
    }
   ],
   "source": [
    "pip install opencv-python"
   ]
  },
  {
   "cell_type": "code",
   "execution_count": 7,
   "metadata": {},
   "outputs": [
    {
     "name": "stdout",
     "output_type": "stream",
     "text": [
      "Requirement already satisfied: numpy in c:\\users\\sagar\\appdata\\local\\programs\\python\\python39\\lib\\site-packages (1.26.4)\n",
      "Note: you may need to restart the kernel to use updated packages.\n"
     ]
    }
   ],
   "source": [
    "pip install numpy"
   ]
  },
  {
   "cell_type": "code",
   "execution_count": 6,
   "metadata": {},
   "outputs": [
    {
     "name": "stdout",
     "output_type": "stream",
     "text": [
      "Collecting PillowNote: you may need to restart the kernel to use updated packages.\n",
      "\n",
      "  Downloading pillow-10.2.0-cp39-cp39-win_amd64.whl.metadata (9.9 kB)\n",
      "Downloading pillow-10.2.0-cp39-cp39-win_amd64.whl (2.6 MB)\n",
      "   ---------------------------------------- 0.0/2.6 MB ? eta -:--:--\n",
      "    --------------------------------------- 0.0/2.6 MB 991.0 kB/s eta 0:00:03\n",
      "   --- ------------------------------------ 0.2/2.6 MB 2.5 MB/s eta 0:00:01\n",
      "   --------- ------------------------------ 0.6/2.6 MB 4.7 MB/s eta 0:00:01\n",
      "   --------------- ------------------------ 1.0/2.6 MB 5.9 MB/s eta 0:00:01\n",
      "   ---------------------- ----------------- 1.5/2.6 MB 6.6 MB/s eta 0:00:01\n",
      "   ----------------------------- ---------- 1.9/2.6 MB 7.7 MB/s eta 0:00:01\n",
      "   ------------------------------------ --- 2.4/2.6 MB 8.1 MB/s eta 0:00:01\n",
      "   ---------------------------------------- 2.6/2.6 MB 8.0 MB/s eta 0:00:00\n",
      "Installing collected packages: Pillow\n",
      "Successfully installed Pillow-10.2.0\n"
     ]
    }
   ],
   "source": [
    "pip install Pillow"
   ]
  },
  {
   "cell_type": "code",
   "execution_count": 1,
   "metadata": {},
   "outputs": [
    {
     "name": "stdout",
     "output_type": "stream",
     "text": [
      "Requirement already satisfied: pip in c:\\users\\sagar\\appdata\\local\\programs\\python\\python39\\lib\\site-packages (22.0.4)Note: you may need to restart the kernel to use updated packages.\n",
      "\n",
      "Collecting pip\n",
      "  Using cached pip-24.0-py3-none-any.whl (2.1 MB)\n",
      "Installing collected packages: pip\n",
      "  Attempting uninstall: pip\n",
      "    Found existing installation: pip 22.0.4\n",
      "    Uninstalling pip-22.0.4:\n",
      "      Successfully uninstalled pip-22.0.4\n",
      "Successfully installed pip-24.0\n"
     ]
    }
   ],
   "source": [
    "%pip install --upgrade pip"
   ]
  },
  {
   "cell_type": "code",
   "execution_count": 2,
   "metadata": {},
   "outputs": [
    {
     "name": "stdout",
     "output_type": "stream",
     "text": [
      "Collecting opencv-python\n",
      "  Using cached opencv_python-4.9.0.80-cp37-abi3-win_amd64.whl.metadata (20 kB)\n",
      "Collecting numpy>=1.17.0 (from opencv-python)\n",
      "  Downloading numpy-1.26.4-cp39-cp39-win_amd64.whl.metadata (61 kB)\n",
      "     ---------------------------------------- 0.0/61.0 kB ? eta -:--:--\n",
      "     --------------------------------- ------ 51.2/61.0 kB 1.3 MB/s eta 0:00:01\n",
      "     ---------------------------------------- 61.0/61.0 kB 1.1 MB/s eta 0:00:00\n",
      "Using cached opencv_python-4.9.0.80-cp37-abi3-win_amd64.whl (38.6 MB)\n",
      "Downloading numpy-1.26.4-cp39-cp39-win_amd64.whl (15.8 MB)\n",
      "   ---------------------------------------- 0.0/15.8 MB ? eta -:--:--\n",
      "    --------------------------------------- 0.2/15.8 MB 4.6 MB/s eta 0:00:04\n",
      "   - -------------------------------------- 0.6/15.8 MB 7.1 MB/s eta 0:00:03\n",
      "   -- ------------------------------------- 1.0/15.8 MB 7.5 MB/s eta 0:00:02\n",
      "   --- ------------------------------------ 1.4/15.8 MB 8.3 MB/s eta 0:00:02\n",
      "   ---- ----------------------------------- 1.9/15.8 MB 9.5 MB/s eta 0:00:02\n",
      "   ------ --------------------------------- 2.4/15.8 MB 9.7 MB/s eta 0:00:02\n",
      "   ------- -------------------------------- 2.9/15.8 MB 9.8 MB/s eta 0:00:02\n",
      "   -------- ------------------------------- 3.4/15.8 MB 10.4 MB/s eta 0:00:02\n",
      "   --------- ------------------------------ 3.9/15.8 MB 10.4 MB/s eta 0:00:02\n",
      "   ----------- ---------------------------- 4.4/15.8 MB 10.4 MB/s eta 0:00:02\n",
      "   ------------ --------------------------- 4.9/15.8 MB 10.4 MB/s eta 0:00:02\n",
      "   ------------- -------------------------- 5.4/15.8 MB 10.7 MB/s eta 0:00:01\n",
      "   -------------- ------------------------- 5.9/15.8 MB 10.7 MB/s eta 0:00:01\n",
      "   ---------------- ----------------------- 6.4/15.8 MB 10.7 MB/s eta 0:00:01\n",
      "   ----------------- ---------------------- 6.9/15.8 MB 11.0 MB/s eta 0:00:01\n",
      "   ------------------ --------------------- 7.3/15.8 MB 10.9 MB/s eta 0:00:01\n",
      "   ------------------- -------------------- 7.8/15.8 MB 11.1 MB/s eta 0:00:01\n",
      "   --------------------- ------------------ 8.3/15.8 MB 11.1 MB/s eta 0:00:01\n",
      "   ---------------------- ----------------- 8.8/15.8 MB 11.0 MB/s eta 0:00:01\n",
      "   ----------------------- ---------------- 9.3/15.8 MB 11.2 MB/s eta 0:00:01\n",
      "   ------------------------ --------------- 9.8/15.8 MB 11.2 MB/s eta 0:00:01\n",
      "   -------------------------- ------------- 10.3/15.8 MB 11.3 MB/s eta 0:00:01\n",
      "   --------------------------- ------------ 10.8/15.8 MB 11.7 MB/s eta 0:00:01\n",
      "   ---------------------------- ----------- 11.3/15.8 MB 11.9 MB/s eta 0:00:01\n",
      "   ----------------------------- ---------- 11.8/15.8 MB 11.7 MB/s eta 0:00:01\n",
      "   ------------------------------- -------- 12.3/15.8 MB 11.7 MB/s eta 0:00:01\n",
      "   -------------------------------- ------- 12.8/15.8 MB 11.9 MB/s eta 0:00:01\n",
      "   --------------------------------- ------ 13.3/15.8 MB 11.9 MB/s eta 0:00:01\n",
      "   ---------------------------------- ----- 13.8/15.8 MB 11.9 MB/s eta 0:00:01\n",
      "   ------------------------------------ --- 14.2/15.8 MB 11.9 MB/s eta 0:00:01\n",
      "   ------------------------------------- -- 14.7/15.8 MB 11.7 MB/s eta 0:00:01\n",
      "   -------------------------------------- - 15.2/15.8 MB 11.9 MB/s eta 0:00:01\n",
      "   ---------------------------------------  15.7/15.8 MB 11.9 MB/s eta 0:00:01\n",
      "   ---------------------------------------  15.8/15.8 MB 11.7 MB/s eta 0:00:01\n",
      "   ---------------------------------------- 15.8/15.8 MB 11.1 MB/s eta 0:00:00\n",
      "Installing collected packages: numpy, opencv-python\n",
      "Successfully installed numpy-1.26.4 opencv-python-4.9.0.80\n",
      "Note: you may need to restart the kernel to use updated packages.\n"
     ]
    }
   ],
   "source": [
    "%pip install opencv-python"
   ]
  },
  {
   "cell_type": "code",
   "execution_count": 3,
   "metadata": {},
   "outputs": [
    {
     "name": "stdout",
     "output_type": "stream",
     "text": [
      "Collecting opencv-contrib-pythonNote: you may need to restart the kernel to use updated packages.\n",
      "\n",
      "  Using cached opencv_contrib_python-4.9.0.80-cp37-abi3-win_amd64.whl.metadata (20 kB)\n",
      "Requirement already satisfied: numpy>=1.17.0 in c:\\users\\sagar\\appdata\\local\\programs\\python\\python39\\lib\\site-packages (from opencv-contrib-python) (1.26.4)\n",
      "Using cached opencv_contrib_python-4.9.0.80-cp37-abi3-win_amd64.whl (45.3 MB)\n",
      "Installing collected packages: opencv-contrib-python\n",
      "Successfully installed opencv-contrib-python-4.9.0.80\n"
     ]
    }
   ],
   "source": [
    "pip install opencv-contrib-python"
   ]
  },
  {
   "cell_type": "code",
   "execution_count": 7,
   "metadata": {},
   "outputs": [
    {
     "name": "stdout",
     "output_type": "stream",
     "text": [
      "Collecting pywin32==303\n",
      "  Downloading pywin32-303-cp39-cp39-win_amd64.whl.metadata (6.2 kB)\n",
      "Downloading pywin32-303-cp39-cp39-win_amd64.whl (9.3 MB)\n",
      "   ---------------------------------------- 0.0/9.3 MB ? eta -:--:--\n",
      "   ---------------------------------------- 0.1/9.3 MB 1.7 MB/s eta 0:00:06\n",
      "   - -------------------------------------- 0.3/9.3 MB 3.3 MB/s eta 0:00:03\n",
      "   -- ------------------------------------- 0.7/9.3 MB 4.8 MB/s eta 0:00:02\n",
      "   ---- ----------------------------------- 1.0/9.3 MB 6.6 MB/s eta 0:00:02\n",
      "   ---- ----------------------------------- 1.0/9.3 MB 6.6 MB/s eta 0:00:02\n",
      "   ---- ----------------------------------- 1.0/9.3 MB 6.6 MB/s eta 0:00:02\n",
      "   ---- ----------------------------------- 1.1/9.3 MB 3.2 MB/s eta 0:00:03\n",
      "   ------ --------------------------------- 1.6/9.3 MB 4.5 MB/s eta 0:00:02\n",
      "   -------- ------------------------------- 1.9/9.3 MB 4.9 MB/s eta 0:00:02\n",
      "   -------- ------------------------------- 1.9/9.3 MB 4.9 MB/s eta 0:00:02\n",
      "   ------------ --------------------------- 3.0/9.3 MB 5.9 MB/s eta 0:00:02\n",
      "   ------------- -------------------------- 3.1/9.3 MB 6.1 MB/s eta 0:00:02\n",
      "   --------------- ------------------------ 3.5/9.3 MB 5.9 MB/s eta 0:00:01\n",
      "   ----------------- ---------------------- 4.0/9.3 MB 6.3 MB/s eta 0:00:01\n",
      "   ------------------- -------------------- 4.5/9.3 MB 6.7 MB/s eta 0:00:01\n",
      "   --------------------- ------------------ 5.0/9.3 MB 7.0 MB/s eta 0:00:01\n",
      "   ---------------------- ----------------- 5.2/9.3 MB 7.1 MB/s eta 0:00:01\n",
      "   ----------------------- ---------------- 5.4/9.3 MB 6.8 MB/s eta 0:00:01\n",
      "   ------------------------- -------------- 5.9/9.3 MB 7.0 MB/s eta 0:00:01\n",
      "   --------------------------- ------------ 6.3/9.3 MB 7.2 MB/s eta 0:00:01\n",
      "   --------------------------- ------------ 6.3/9.3 MB 7.2 MB/s eta 0:00:01\n",
      "   --------------------------- ------------ 6.3/9.3 MB 7.2 MB/s eta 0:00:01\n",
      "   --------------------------- ------------ 6.3/9.3 MB 7.2 MB/s eta 0:00:01\n",
      "   --------------------------- ------------ 6.3/9.3 MB 7.2 MB/s eta 0:00:01\n",
      "   --------------------------- ------------ 6.3/9.3 MB 7.2 MB/s eta 0:00:01\n",
      "   --------------------------- ------------ 6.3/9.3 MB 7.2 MB/s eta 0:00:01\n",
      "   --------------------------- ------------ 6.3/9.3 MB 7.2 MB/s eta 0:00:01\n",
      "   --------------------------- ------------ 6.3/9.3 MB 7.2 MB/s eta 0:00:01\n",
      "   --------------------------- ------------ 6.3/9.3 MB 7.2 MB/s eta 0:00:01\n",
      "   --------------------------- ------------ 6.3/9.3 MB 7.2 MB/s eta 0:00:01\n",
      "   --------------------------- ------------ 6.3/9.3 MB 7.2 MB/s eta 0:00:01\n",
      "   --------------------------- ------------ 6.3/9.3 MB 7.2 MB/s eta 0:00:01\n",
      "   --------------------------- ------------ 6.3/9.3 MB 7.2 MB/s eta 0:00:01\n",
      "   --------------------------- ------------ 6.3/9.3 MB 7.2 MB/s eta 0:00:01\n",
      "   --------------------------- ------------ 6.3/9.3 MB 7.2 MB/s eta 0:00:01\n",
      "   --------------------------- ------------ 6.3/9.3 MB 7.2 MB/s eta 0:00:01\n",
      "   --------------------------- ------------ 6.3/9.3 MB 7.2 MB/s eta 0:00:01\n",
      "   --------------------------- ------------ 6.3/9.3 MB 7.2 MB/s eta 0:00:01\n",
      "   --------------------------- ------------ 6.3/9.3 MB 7.2 MB/s eta 0:00:01\n",
      "   --------------------------- ------------ 6.3/9.3 MB 7.2 MB/s eta 0:00:01\n",
      "   --------------------------- ------------ 6.3/9.3 MB 7.2 MB/s eta 0:00:01\n",
      "   --------------------------- ------------ 6.3/9.3 MB 7.2 MB/s eta 0:00:01\n",
      "   --------------------------- ------------ 6.3/9.3 MB 7.2 MB/s eta 0:00:01\n",
      "   --------------------------- ------------ 6.3/9.3 MB 7.2 MB/s eta 0:00:01\n",
      "   --------------------------- ------------ 6.3/9.3 MB 7.2 MB/s eta 0:00:01\n",
      "   --------------------------- ------------ 6.3/9.3 MB 7.2 MB/s eta 0:00:01\n",
      "   --------------------------- ------------ 6.3/9.3 MB 7.2 MB/s eta 0:00:01\n",
      "   --------------------------- ------------ 6.3/9.3 MB 7.2 MB/s eta 0:00:01\n",
      "   --------------------------- ------------ 6.3/9.3 MB 7.2 MB/s eta 0:00:01\n",
      "   --------------------------- ------------ 6.3/9.3 MB 7.2 MB/s eta 0:00:01\n",
      "   --------------------------- ------------ 6.3/9.3 MB 7.2 MB/s eta 0:00:01\n",
      "   --------------------------- ------------ 6.3/9.3 MB 7.2 MB/s eta 0:00:01\n",
      "   --------------------------- ------------ 6.3/9.3 MB 7.2 MB/s eta 0:00:01\n",
      "   --------------------------- ------------ 6.3/9.3 MB 7.2 MB/s eta 0:00:01\n",
      "   --------------------------- ------------ 6.3/9.3 MB 7.2 MB/s eta 0:00:01\n",
      "   --------------------------- ------------ 6.3/9.3 MB 7.2 MB/s eta 0:00:01\n",
      "   --------------------------- ------------ 6.3/9.3 MB 7.2 MB/s eta 0:00:01\n",
      "   --------------------------- ------------ 6.3/9.3 MB 7.2 MB/s eta 0:00:01\n",
      "   --------------------------- ------------ 6.3/9.3 MB 7.2 MB/s eta 0:00:01\n",
      "   --------------------------- ------------ 6.3/9.3 MB 7.2 MB/s eta 0:00:01\n",
      "   --------------------------- ------------ 6.3/9.3 MB 7.2 MB/s eta 0:00:01\n",
      "   --------------------------- ------------ 6.3/9.3 MB 7.2 MB/s eta 0:00:01\n",
      "   --------------------------- ------------ 6.3/9.3 MB 7.2 MB/s eta 0:00:01\n",
      "   --------------------------- ------------ 6.3/9.3 MB 7.2 MB/s eta 0:00:01\n",
      "   --------------------------- ------------ 6.3/9.3 MB 7.2 MB/s eta 0:00:01\n",
      "   --------------------------- ------------ 6.5/9.3 MB 2.3 MB/s eta 0:00:02\n",
      "   ------------------------------ --------- 7.1/9.3 MB 2.5 MB/s eta 0:00:01\n",
      "   -------------------------------- ------- 7.6/9.3 MB 2.6 MB/s eta 0:00:01\n",
      "   ---------------------------------- ----- 8.1/9.3 MB 2.7 MB/s eta 0:00:01\n",
      "   ------------------------------------- -- 8.6/9.3 MB 2.9 MB/s eta 0:00:01\n",
      "   ---------------------------------------  9.1/9.3 MB 3.0 MB/s eta 0:00:01\n",
      "   ---------------------------------------- 9.3/9.3 MB 3.0 MB/s eta 0:00:00\n",
      "Installing collected packages: pywin32\n",
      "  Attempting uninstall: pywin32\n",
      "    Found existing installation: pywin32 306\n",
      "    Uninstalling pywin32-306:\n",
      "      Successfully uninstalled pywin32-306\n",
      "Successfully installed pywin32-303\n",
      "Note: you may need to restart the kernel to use updated packages.\n"
     ]
    }
   ],
   "source": [
    "%pip install pywin32==303"
   ]
  },
  {
   "cell_type": "code",
   "execution_count": 8,
   "metadata": {},
   "outputs": [
    {
     "name": "stdout",
     "output_type": "stream",
     "text": [
      "3.9.13 (tags/v3.9.13:6de2ca5, May 17 2022, 16:36:42) [MSC v.1929 64 bit (AMD64)]\n"
     ]
    }
   ],
   "source": [
    "import sys\n",
    "print(sys.version)"
   ]
  }
 ],
 "metadata": {
  "kernelspec": {
   "display_name": "base",
   "language": "python",
   "name": "python3"
  },
  "language_info": {
   "codemirror_mode": {
    "name": "ipython",
    "version": 3
   },
   "file_extension": ".py",
   "mimetype": "text/x-python",
   "name": "python",
   "nbconvert_exporter": "python",
   "pygments_lexer": "ipython3",
   "version": "3.10.11"
  }
 },
 "nbformat": 4,
 "nbformat_minor": 2
}
