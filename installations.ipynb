{
 "cells": [
  {
   "cell_type": "code",
   "execution_count": 1,
   "metadata": {},
   "outputs": [
    {
     "name": "stdout",
     "output_type": "stream",
     "text": [
      "Note: you may need to restart the kernel to use updated packages.\n"
     ]
    },
    {
     "name": "stderr",
     "output_type": "stream",
     "text": [
      "WARNING: Package(s) not found: videoCapture\n"
     ]
    }
   ],
   "source": [
    "pip show videoCapture"
   ]
  },
  {
   "cell_type": "code",
   "execution_count": 2,
   "metadata": {},
   "outputs": [
    {
     "name": "stdout",
     "output_type": "stream",
     "text": [
      "Collecting numpy\n",
      "  Downloading numpy-1.26.4-cp310-cp310-win_amd64.whl.metadata (61 kB)\n",
      "     ---------------------------------------- 0.0/61.0 kB ? eta -:--:--\n",
      "     --------------------------------- ------ 51.2/61.0 kB 2.6 MB/s eta 0:00:01\n",
      "     ---------------------------------------- 61.0/61.0 kB 1.1 MB/s eta 0:00:00\n",
      "Downloading numpy-1.26.4-cp310-cp310-win_amd64.whl (15.8 MB)\n",
      "   ---------------------------------------- 0.0/15.8 MB ? eta -:--:--\n",
      "    --------------------------------------- 0.3/15.8 MB 5.8 MB/s eta 0:00:03\n",
      "   - -------------------------------------- 0.6/15.8 MB 6.2 MB/s eta 0:00:03\n",
      "   -- ------------------------------------- 1.1/15.8 MB 7.8 MB/s eta 0:00:02\n",
      "   ---- ----------------------------------- 1.6/15.8 MB 8.4 MB/s eta 0:00:02\n",
      "   ----- ---------------------------------- 2.1/15.8 MB 9.0 MB/s eta 0:00:02\n",
      "   ------ --------------------------------- 2.5/15.8 MB 9.6 MB/s eta 0:00:02\n",
      "   -------- ------------------------------- 3.2/15.8 MB 10.1 MB/s eta 0:00:02\n",
      "   --------- ------------------------------ 3.7/15.8 MB 10.2 MB/s eta 0:00:02\n",
      "   ---------- ----------------------------- 4.2/15.8 MB 10.2 MB/s eta 0:00:02\n",
      "   ----------- ---------------------------- 4.6/15.8 MB 10.6 MB/s eta 0:00:02\n",
      "   ------------ --------------------------- 5.1/15.8 MB 10.5 MB/s eta 0:00:02\n",
      "   -------------- ------------------------- 5.6/15.8 MB 10.6 MB/s eta 0:00:01\n",
      "   --------------- ------------------------ 6.1/15.8 MB 10.8 MB/s eta 0:00:01\n",
      "   ---------------- ----------------------- 6.6/15.8 MB 10.8 MB/s eta 0:00:01\n",
      "   ----------------- ---------------------- 7.1/15.8 MB 11.0 MB/s eta 0:00:01\n",
      "   ------------------- -------------------- 7.5/15.8 MB 10.9 MB/s eta 0:00:01\n",
      "   -------------------- ------------------- 8.0/15.8 MB 11.1 MB/s eta 0:00:01\n",
      "   --------------------- ------------------ 8.5/15.8 MB 11.1 MB/s eta 0:00:01\n",
      "   ---------------------- ----------------- 9.0/15.8 MB 11.0 MB/s eta 0:00:01\n",
      "   ----------------------- ---------------- 9.5/15.8 MB 11.2 MB/s eta 0:00:01\n",
      "   ------------------------- -------------- 10.0/15.8 MB 11.2 MB/s eta 0:00:01\n",
      "   -------------------------- ------------- 10.5/15.8 MB 11.5 MB/s eta 0:00:01\n",
      "   --------------------------- ------------ 10.9/15.8 MB 11.9 MB/s eta 0:00:01\n",
      "   ---------------------------- ----------- 11.4/15.8 MB 11.9 MB/s eta 0:00:01\n",
      "   ------------------------------ --------- 11.9/15.8 MB 11.7 MB/s eta 0:00:01\n",
      "   ------------------------------- -------- 12.4/15.8 MB 11.9 MB/s eta 0:00:01\n",
      "   -------------------------------- ------- 12.9/15.8 MB 11.9 MB/s eta 0:00:01\n",
      "   --------------------------------- ------ 13.4/15.8 MB 11.7 MB/s eta 0:00:01\n",
      "   ----------------------------------- ---- 13.9/15.8 MB 11.9 MB/s eta 0:00:01\n",
      "   ------------------------------------ --- 14.4/15.8 MB 11.9 MB/s eta 0:00:01\n",
      "   ------------------------------------- -- 14.9/15.8 MB 11.7 MB/s eta 0:00:01\n",
      "   ---------------------------------------  15.4/15.8 MB 11.7 MB/s eta 0:00:01\n",
      "   ---------------------------------------  15.8/15.8 MB 11.7 MB/s eta 0:00:01\n",
      "   ---------------------------------------- 15.8/15.8 MB 11.3 MB/s eta 0:00:00\n",
      "Installing collected packages: numpy\n",
      "Successfully installed numpy-1.26.4\n",
      "Note: you may need to restart the kernel to use updated packages.\n"
     ]
    }
   ],
   "source": [
    "pip install --force-reinstall numpy"
   ]
  },
  {
   "cell_type": "code",
   "execution_count": 3,
   "metadata": {},
   "outputs": [
    {
     "name": "stdout",
     "output_type": "stream",
     "text": [
      "Requirement already satisfied: pip in c:\\users\\sagar\\appdata\\local\\packages\\pythonsoftwarefoundation.python.3.10_qbz5n2kfra8p0\\localcache\\local-packages\\python310\\site-packages (24.0)\n",
      "Requirement already satisfied: setuptools in c:\\program files\\windowsapps\\pythonsoftwarefoundation.python.3.10_3.10.3056.0_x64__qbz5n2kfra8p0\\lib\\site-packages (65.5.0)\n",
      "Collecting setuptools\n",
      "  Downloading setuptools-69.2.0-py3-none-any.whl.metadata (6.3 kB)\n",
      "Downloading setuptools-69.2.0-py3-none-any.whl (821 kB)\n",
      "   ---------------------------------------- 0.0/821.5 kB ? eta -:--:--\n",
      "   ---- ----------------------------------- 92.2/821.5 kB 2.6 MB/s eta 0:00:01\n",
      "   ------------- -------------------------- 286.7/821.5 kB 3.5 MB/s eta 0:00:01\n",
      "   -------------------------- ------------- 553.0/821.5 kB 5.0 MB/s eta 0:00:01\n",
      "   ---------------------------------------- 821.5/821.5 kB 5.2 MB/s eta 0:00:00\n",
      "Installing collected packages: setuptools\n",
      "Successfully installed setuptools-69.2.0\n",
      "Note: you may need to restart the kernel to use updated packages.\n"
     ]
    }
   ],
   "source": [
    "pip install --upgrade pip setuptools"
   ]
  },
  {
   "cell_type": "code",
   "execution_count": 4,
   "metadata": {},
   "outputs": [
    {
     "name": "stdout",
     "output_type": "stream",
     "text": [
      "Files removed: 268\n",
      "Note: you may need to restart the kernel to use updated packages.\n"
     ]
    }
   ],
   "source": [
    "pip cache purge"
   ]
  },
  {
   "cell_type": "code",
   "execution_count": 5,
   "metadata": {},
   "outputs": [
    {
     "name": "stdout",
     "output_type": "stream",
     "text": [
      "Requirement already satisfied: numpy in c:\\users\\sagar\\appdata\\local\\packages\\pythonsoftwarefoundation.python.3.10_qbz5n2kfra8p0\\localcache\\local-packages\\python310\\site-packages (1.26.4)\n",
      "Note: you may need to restart the kernel to use updated packages.\n"
     ]
    }
   ],
   "source": [
    "pip install numpy"
   ]
  },
  {
   "cell_type": "code",
   "execution_count": 6,
   "metadata": {},
   "outputs": [
    {
     "name": "stdout",
     "output_type": "stream",
     "text": [
      "Collecting flask\n",
      "  Downloading flask-3.0.2-py3-none-any.whl.metadata (3.6 kB)\n",
      "Collecting Werkzeug>=3.0.0 (from flask)\n",
      "  Downloading werkzeug-3.0.1-py3-none-any.whl.metadata (4.1 kB)\n",
      "Collecting Jinja2>=3.1.2 (from flask)\n",
      "  Downloading Jinja2-3.1.3-py3-none-any.whl.metadata (3.3 kB)\n",
      "Collecting itsdangerous>=2.1.2 (from flask)\n",
      "  Downloading itsdangerous-2.1.2-py3-none-any.whl.metadata (2.9 kB)\n",
      "Collecting click>=8.1.3 (from flask)\n",
      "  Downloading click-8.1.7-py3-none-any.whl.metadata (3.0 kB)\n",
      "Collecting blinker>=1.6.2 (from flask)\n",
      "  Downloading blinker-1.7.0-py3-none-any.whl.metadata (1.9 kB)\n",
      "Requirement already satisfied: colorama in c:\\users\\sagar\\appdata\\local\\packages\\pythonsoftwarefoundation.python.3.10_qbz5n2kfra8p0\\localcache\\local-packages\\python310\\site-packages (from click>=8.1.3->flask) (0.4.6)\n",
      "Collecting MarkupSafe>=2.0 (from Jinja2>=3.1.2->flask)\n",
      "  Downloading MarkupSafe-2.1.5-cp310-cp310-win_amd64.whl.metadata (3.1 kB)\n",
      "Downloading flask-3.0.2-py3-none-any.whl (101 kB)\n",
      "   ---------------------------------------- 0.0/101.3 kB ? eta -:--:--\n",
      "   ------------------------ --------------- 61.4/101.3 kB 1.1 MB/s eta 0:00:01\n",
      "   ---------------------------------------- 101.3/101.3 kB 1.5 MB/s eta 0:00:00\n",
      "Downloading blinker-1.7.0-py3-none-any.whl (13 kB)\n",
      "Downloading click-8.1.7-py3-none-any.whl (97 kB)\n",
      "   ---------------------------------------- 0.0/97.9 kB ? eta -:--:--\n",
      "   ---------------------------------------- 97.9/97.9 kB 5.8 MB/s eta 0:00:00\n",
      "Downloading itsdangerous-2.1.2-py3-none-any.whl (15 kB)\n",
      "Downloading Jinja2-3.1.3-py3-none-any.whl (133 kB)\n",
      "   ---------------------------------------- 0.0/133.2 kB ? eta -:--:--\n",
      "   ---------------------------------------- 133.2/133.2 kB 2.7 MB/s eta 0:00:00\n",
      "Downloading werkzeug-3.0.1-py3-none-any.whl (226 kB)\n",
      "   ---------------------------------------- 0.0/226.7 kB ? eta -:--:--\n",
      "   ---------------------------------------- 226.7/226.7 kB 7.0 MB/s eta 0:00:00\n",
      "Downloading MarkupSafe-2.1.5-cp310-cp310-win_amd64.whl (17 kB)\n",
      "Installing collected packages: MarkupSafe, itsdangerous, click, blinker, Werkzeug, Jinja2, flask\n",
      "Successfully installed Jinja2-3.1.3 MarkupSafe-2.1.5 Werkzeug-3.0.1 blinker-1.7.0 click-8.1.7 flask-3.0.2 itsdangerous-2.1.2\n",
      "Note: you may need to restart the kernel to use updated packages.\n"
     ]
    }
   ],
   "source": [
    "pip install flask"
   ]
  },
  {
   "cell_type": "code",
   "execution_count": 7,
   "metadata": {},
   "outputs": [
    {
     "name": "stdout",
     "output_type": "stream",
     "text": [
      "Requirement already satisfied: flask in c:\\users\\sagar\\appdata\\local\\packages\\pythonsoftwarefoundation.python.3.10_qbz5n2kfra8p0\\localcache\\local-packages\\python310\\site-packages (3.0.2)\n",
      "Requirement already satisfied: Werkzeug>=3.0.0 in c:\\users\\sagar\\appdata\\local\\packages\\pythonsoftwarefoundation.python.3.10_qbz5n2kfra8p0\\localcache\\local-packages\\python310\\site-packages (from flask) (3.0.1)\n",
      "Requirement already satisfied: Jinja2>=3.1.2 in c:\\users\\sagar\\appdata\\local\\packages\\pythonsoftwarefoundation.python.3.10_qbz5n2kfra8p0\\localcache\\local-packages\\python310\\site-packages (from flask) (3.1.3)\n",
      "Requirement already satisfied: itsdangerous>=2.1.2 in c:\\users\\sagar\\appdata\\local\\packages\\pythonsoftwarefoundation.python.3.10_qbz5n2kfra8p0\\localcache\\local-packages\\python310\\site-packages (from flask) (2.1.2)\n",
      "Requirement already satisfied: click>=8.1.3 in c:\\users\\sagar\\appdata\\local\\packages\\pythonsoftwarefoundation.python.3.10_qbz5n2kfra8p0\\localcache\\local-packages\\python310\\site-packages (from flask) (8.1.7)\n",
      "Requirement already satisfied: blinker>=1.6.2 in c:\\users\\sagar\\appdata\\local\\packages\\pythonsoftwarefoundation.python.3.10_qbz5n2kfra8p0\\localcache\\local-packages\\python310\\site-packages (from flask) (1.7.0)\n",
      "Requirement already satisfied: colorama in c:\\users\\sagar\\appdata\\local\\packages\\pythonsoftwarefoundation.python.3.10_qbz5n2kfra8p0\\localcache\\local-packages\\python310\\site-packages (from click>=8.1.3->flask) (0.4.6)\n",
      "Requirement already satisfied: MarkupSafe>=2.0 in c:\\users\\sagar\\appdata\\local\\packages\\pythonsoftwarefoundation.python.3.10_qbz5n2kfra8p0\\localcache\\local-packages\\python310\\site-packages (from Jinja2>=3.1.2->flask) (2.1.5)\n",
      "Note: you may need to restart the kernel to use updated packages.\n"
     ]
    }
   ],
   "source": [
    "%pip install flask"
   ]
  },
  {
   "cell_type": "code",
   "execution_count": 8,
   "metadata": {},
   "outputs": [
    {
     "name": "stdout",
     "output_type": "stream",
     "text": [
      "Requirement already satisfied: Flask in c:\\users\\sagar\\appdata\\local\\packages\\pythonsoftwarefoundation.python.3.10_qbz5n2kfra8p0\\localcache\\local-packages\\python310\\site-packages (3.0.2)\n",
      "Requirement already satisfied: Werkzeug>=3.0.0 in c:\\users\\sagar\\appdata\\local\\packages\\pythonsoftwarefoundation.python.3.10_qbz5n2kfra8p0\\localcache\\local-packages\\python310\\site-packages (from Flask) (3.0.1)\n",
      "Requirement already satisfied: Jinja2>=3.1.2 in c:\\users\\sagar\\appdata\\local\\packages\\pythonsoftwarefoundation.python.3.10_qbz5n2kfra8p0\\localcache\\local-packages\\python310\\site-packages (from Flask) (3.1.3)\n",
      "Requirement already satisfied: itsdangerous>=2.1.2 in c:\\users\\sagar\\appdata\\local\\packages\\pythonsoftwarefoundation.python.3.10_qbz5n2kfra8p0\\localcache\\local-packages\\python310\\site-packages (from Flask) (2.1.2)\n",
      "Requirement already satisfied: click>=8.1.3 in c:\\users\\sagar\\appdata\\local\\packages\\pythonsoftwarefoundation.python.3.10_qbz5n2kfra8p0\\localcache\\local-packages\\python310\\site-packages (from Flask) (8.1.7)\n",
      "Requirement already satisfied: blinker>=1.6.2 in c:\\users\\sagar\\appdata\\local\\packages\\pythonsoftwarefoundation.python.3.10_qbz5n2kfra8p0\\localcache\\local-packages\\python310\\site-packages (from Flask) (1.7.0)\n",
      "Requirement already satisfied: colorama in c:\\users\\sagar\\appdata\\local\\packages\\pythonsoftwarefoundation.python.3.10_qbz5n2kfra8p0\\localcache\\local-packages\\python310\\site-packages (from click>=8.1.3->Flask) (0.4.6)\n",
      "Requirement already satisfied: MarkupSafe>=2.0 in c:\\users\\sagar\\appdata\\local\\packages\\pythonsoftwarefoundation.python.3.10_qbz5n2kfra8p0\\localcache\\local-packages\\python310\\site-packages (from Jinja2>=3.1.2->Flask) (2.1.5)\n",
      "Note: you may need to restart the kernel to use updated packages.\n"
     ]
    }
   ],
   "source": [
    "pip install Flask"
   ]
  },
  {
   "cell_type": "code",
   "execution_count": 9,
   "metadata": {},
   "outputs": [
    {
     "name": "stdout",
     "output_type": "stream",
     "text": [
      "Collecting opencv-python\n",
      "  Downloading opencv_python-4.9.0.80-cp37-abi3-win_amd64.whl.metadata (20 kB)\n",
      "Requirement already satisfied: numpy>=1.21.2 in c:\\users\\sagar\\appdata\\local\\packages\\pythonsoftwarefoundation.python.3.10_qbz5n2kfra8p0\\localcache\\local-packages\\python310\\site-packages (from opencv-python) (1.26.4)\n",
      "Downloading opencv_python-4.9.0.80-cp37-abi3-win_amd64.whl (38.6 MB)\n",
      "   ---------------------------------------- 0.0/38.6 MB ? eta -:--:--\n",
      "   ---------------------------------------- 0.1/38.6 MB 2.0 MB/s eta 0:00:20\n",
      "   ---------------------------------------- 0.3/38.6 MB 3.8 MB/s eta 0:00:11\n",
      "    --------------------------------------- 0.7/38.6 MB 5.9 MB/s eta 0:00:07\n",
      "   - -------------------------------------- 1.2/38.6 MB 7.7 MB/s eta 0:00:05\n",
      "   - -------------------------------------- 1.7/38.6 MB 8.3 MB/s eta 0:00:05\n",
      "   -- ------------------------------------- 2.2/38.6 MB 8.7 MB/s eta 0:00:05\n",
      "   -- ------------------------------------- 2.7/38.6 MB 9.6 MB/s eta 0:00:04\n",
      "   --- ------------------------------------ 3.3/38.6 MB 9.9 MB/s eta 0:00:04\n",
      "   --- ------------------------------------ 3.7/38.6 MB 10.0 MB/s eta 0:00:04\n",
      "   ---- ----------------------------------- 4.2/38.6 MB 10.0 MB/s eta 0:00:04\n",
      "   ---- ----------------------------------- 4.7/38.6 MB 10.4 MB/s eta 0:00:04\n",
      "   ----- ---------------------------------- 5.2/38.6 MB 10.4 MB/s eta 0:00:04\n",
      "   ----- ---------------------------------- 5.7/38.6 MB 10.4 MB/s eta 0:00:04\n",
      "   ------ --------------------------------- 6.2/38.6 MB 10.7 MB/s eta 0:00:04\n",
      "   ------ --------------------------------- 6.7/38.6 MB 10.7 MB/s eta 0:00:03\n",
      "   ------- -------------------------------- 7.3/38.6 MB 10.9 MB/s eta 0:00:03\n",
      "   -------- ------------------------------- 7.9/38.6 MB 10.9 MB/s eta 0:00:03\n",
      "   -------- ------------------------------- 8.3/38.6 MB 10.9 MB/s eta 0:00:03\n",
      "   --------- ------------------------------ 8.8/38.6 MB 10.9 MB/s eta 0:00:03\n",
      "   --------- ------------------------------ 9.3/38.6 MB 11.0 MB/s eta 0:00:03\n",
      "   ---------- ----------------------------- 9.9/38.6 MB 11.1 MB/s eta 0:00:03\n",
      "   ---------- ----------------------------- 10.4/38.6 MB 11.7 MB/s eta 0:00:03\n",
      "   ----------- ---------------------------- 10.9/38.6 MB 11.7 MB/s eta 0:00:03\n",
      "   ----------- ---------------------------- 11.3/38.6 MB 11.7 MB/s eta 0:00:03\n",
      "   ------------ --------------------------- 11.9/38.6 MB 11.9 MB/s eta 0:00:03\n",
      "   ------------ --------------------------- 12.4/38.6 MB 11.9 MB/s eta 0:00:03\n",
      "   ------------- -------------------------- 12.9/38.6 MB 11.7 MB/s eta 0:00:03\n",
      "   ------------- -------------------------- 13.4/38.6 MB 11.9 MB/s eta 0:00:03\n",
      "   -------------- ------------------------- 13.9/38.6 MB 11.9 MB/s eta 0:00:03\n",
      "   -------------- ------------------------- 14.4/38.6 MB 11.7 MB/s eta 0:00:03\n",
      "   --------------- ------------------------ 14.9/38.6 MB 11.9 MB/s eta 0:00:02\n",
      "   --------------- ------------------------ 15.4/38.6 MB 11.7 MB/s eta 0:00:02\n",
      "   ---------------- ----------------------- 15.9/38.6 MB 11.7 MB/s eta 0:00:02\n",
      "   ---------------- ----------------------- 16.4/38.6 MB 11.9 MB/s eta 0:00:02\n",
      "   ----------------- ---------------------- 16.9/38.6 MB 11.9 MB/s eta 0:00:02\n",
      "   ----------------- ---------------------- 17.3/38.6 MB 11.7 MB/s eta 0:00:02\n",
      "   ------------------ --------------------- 17.8/38.6 MB 11.7 MB/s eta 0:00:02\n",
      "   ------------------ --------------------- 18.3/38.6 MB 11.9 MB/s eta 0:00:02\n",
      "   ------------------- -------------------- 18.8/38.6 MB 11.7 MB/s eta 0:00:02\n",
      "   -------------------- ------------------- 19.3/38.6 MB 11.9 MB/s eta 0:00:02\n",
      "   -------------------- ------------------- 19.9/38.6 MB 11.7 MB/s eta 0:00:02\n",
      "   --------------------- ------------------ 20.4/38.6 MB 11.9 MB/s eta 0:00:02\n",
      "   --------------------- ------------------ 20.9/38.6 MB 11.7 MB/s eta 0:00:02\n",
      "   ---------------------- ----------------- 21.4/38.6 MB 11.7 MB/s eta 0:00:02\n",
      "   ---------------------- ----------------- 21.9/38.6 MB 11.9 MB/s eta 0:00:02\n",
      "   ----------------------- ---------------- 22.3/38.6 MB 11.7 MB/s eta 0:00:02\n",
      "   ----------------------- ---------------- 22.8/38.6 MB 11.7 MB/s eta 0:00:02\n",
      "   ------------------------ --------------- 23.4/38.6 MB 11.7 MB/s eta 0:00:02\n",
      "   ------------------------ --------------- 23.8/38.6 MB 11.9 MB/s eta 0:00:02\n",
      "   ------------------------- -------------- 24.3/38.6 MB 11.7 MB/s eta 0:00:02\n",
      "   ------------------------- -------------- 24.8/38.6 MB 11.9 MB/s eta 0:00:02\n",
      "   -------------------------- ------------- 25.3/38.6 MB 11.7 MB/s eta 0:00:02\n",
      "   -------------------------- ------------- 25.8/38.6 MB 11.9 MB/s eta 0:00:02\n",
      "   --------------------------- ------------ 26.3/38.6 MB 11.9 MB/s eta 0:00:02\n",
      "   --------------------------- ------------ 26.8/38.6 MB 11.7 MB/s eta 0:00:02\n",
      "   ---------------------------- ----------- 27.3/38.6 MB 11.7 MB/s eta 0:00:01\n",
      "   ---------------------------- ----------- 27.8/38.6 MB 11.9 MB/s eta 0:00:01\n",
      "   ----------------------------- ---------- 28.3/38.6 MB 11.9 MB/s eta 0:00:01\n",
      "   ----------------------------- ---------- 28.8/38.6 MB 11.9 MB/s eta 0:00:01\n",
      "   ------------------------------ --------- 29.3/38.6 MB 11.7 MB/s eta 0:00:01\n",
      "   ------------------------------ --------- 29.8/38.6 MB 11.9 MB/s eta 0:00:01\n",
      "   ------------------------------- -------- 30.2/38.6 MB 11.7 MB/s eta 0:00:01\n",
      "   ------------------------------- -------- 30.8/38.6 MB 11.7 MB/s eta 0:00:01\n",
      "   -------------------------------- ------- 31.3/38.6 MB 11.9 MB/s eta 0:00:01\n",
      "   -------------------------------- ------- 31.8/38.6 MB 11.9 MB/s eta 0:00:01\n",
      "   --------------------------------- ------ 32.3/38.6 MB 11.7 MB/s eta 0:00:01\n",
      "   --------------------------------- ------ 32.8/38.6 MB 11.9 MB/s eta 0:00:01\n",
      "   ---------------------------------- ----- 33.2/38.6 MB 11.9 MB/s eta 0:00:01\n",
      "   ---------------------------------- ----- 33.7/38.6 MB 11.7 MB/s eta 0:00:01\n",
      "   ----------------------------------- ---- 34.2/38.6 MB 11.9 MB/s eta 0:00:01\n",
      "   ----------------------------------- ---- 34.7/38.6 MB 11.7 MB/s eta 0:00:01\n",
      "   ------------------------------------ --- 35.2/38.6 MB 11.9 MB/s eta 0:00:01\n",
      "   ------------------------------------ --- 35.7/38.6 MB 11.9 MB/s eta 0:00:01\n",
      "   ------------------------------------- -- 36.2/38.6 MB 11.9 MB/s eta 0:00:01\n",
      "   -------------------------------------- - 36.7/38.6 MB 11.7 MB/s eta 0:00:01\n",
      "   -------------------------------------- - 37.2/38.6 MB 11.9 MB/s eta 0:00:01\n",
      "   -------------------------------------- - 37.6/38.6 MB 11.7 MB/s eta 0:00:01\n",
      "   ---------------------------------------  38.1/38.6 MB 11.9 MB/s eta 0:00:01\n",
      "   ---------------------------------------  38.6/38.6 MB 11.9 MB/s eta 0:00:01\n",
      "   ---------------------------------------  38.6/38.6 MB 11.9 MB/s eta 0:00:01\n",
      "   ---------------------------------------- 38.6/38.6 MB 11.1 MB/s eta 0:00:00\n",
      "Installing collected packages: opencv-python\n",
      "Successfully installed opencv-python-4.9.0.80\n",
      "Note: you may need to restart the kernel to use updated packages.\n",
      "Requirement already satisfied: numpy in c:\\users\\sagar\\appdata\\local\\packages\\pythonsoftwarefoundation.python.3.10_qbz5n2kfra8p0\\localcache\\local-packages\\python310\\site-packages (1.26.4)\n",
      "Note: you may need to restart the kernel to use updated packages.\n",
      "Collecting Pillow\n",
      "  Downloading pillow-10.2.0-cp310-cp310-win_amd64.whl.metadata (9.9 kB)\n",
      "Downloading pillow-10.2.0-cp310-cp310-win_amd64.whl (2.6 MB)\n",
      "   ---------------------------------------- 0.0/2.6 MB ? eta -:--:--\n",
      "    --------------------------------------- 0.1/2.6 MB 1.7 MB/s eta 0:00:02\n",
      "   --- ------------------------------------ 0.2/2.6 MB 2.8 MB/s eta 0:00:01\n",
      "   -------- ------------------------------- 0.6/2.6 MB 5.1 MB/s eta 0:00:01\n",
      "   --------------- ------------------------ 1.0/2.6 MB 6.4 MB/s eta 0:00:01\n",
      "   ---------------------- ----------------- 1.5/2.6 MB 7.9 MB/s eta 0:00:01\n",
      "   --------------------------- ------------ 1.8/2.6 MB 7.7 MB/s eta 0:00:01\n",
      "   ----------------------------------- ---- 2.3/2.6 MB 8.8 MB/s eta 0:00:01\n",
      "   ---------------------------------------- 2.6/2.6 MB 8.8 MB/s eta 0:00:00\n",
      "Installing collected packages: Pillow\n",
      "Successfully installed Pillow-10.2.0\n",
      "Note: you may need to restart the kernel to use updated packages.\n"
     ]
    }
   ],
   "source": [
    "%pip install opencv-python\n",
    "%pip install numpy\n",
    "%pip install Pillow"
   ]
  },
  {
   "cell_type": "code",
   "execution_count": 10,
   "metadata": {},
   "outputs": [
    {
     "name": "stdout",
     "output_type": "stream",
     "text": [
      "Requirement already satisfied: pip in c:\\users\\sagar\\appdata\\local\\packages\\pythonsoftwarefoundation.python.3.10_qbz5n2kfra8p0\\localcache\\local-packages\\python310\\site-packages (24.0)\n",
      "Note: you may need to restart the kernel to use updated packages.\n"
     ]
    }
   ],
   "source": [
    "%pip install --upgrade pip"
   ]
  },
  {
   "cell_type": "code",
   "execution_count": 11,
   "metadata": {},
   "outputs": [
    {
     "name": "stdout",
     "output_type": "stream",
     "text": [
      "Requirement already satisfied: opencv-python in c:\\users\\sagar\\appdata\\local\\packages\\pythonsoftwarefoundation.python.3.10_qbz5n2kfra8p0\\localcache\\local-packages\\python310\\site-packages (4.9.0.80)\n",
      "Requirement already satisfied: numpy>=1.21.2 in c:\\users\\sagar\\appdata\\local\\packages\\pythonsoftwarefoundation.python.3.10_qbz5n2kfra8p0\\localcache\\local-packages\\python310\\site-packages (from opencv-python) (1.26.4)\n",
      "Note: you may need to restart the kernel to use updated packages.\n"
     ]
    }
   ],
   "source": [
    "%pip install opencv-python"
   ]
  },
  {
   "cell_type": "code",
   "execution_count": 1,
   "metadata": {},
   "outputs": [
    {
     "name": "stdout",
     "output_type": "stream",
     "text": [
      "Collecting opencv-contrib-python\n",
      "  Downloading opencv_contrib_python-4.9.0.80-cp37-abi3-win_amd64.whl.metadata (20 kB)\n",
      "Requirement already satisfied: numpy>=1.21.2 in c:\\users\\sagar\\appdata\\local\\packages\\pythonsoftwarefoundation.python.3.10_qbz5n2kfra8p0\\localcache\\local-packages\\python310\\site-packages (from opencv-contrib-python) (1.26.4)\n",
      "Downloading opencv_contrib_python-4.9.0.80-cp37-abi3-win_amd64.whl (45.3 MB)\n",
      "   ---------------------------------------- 0.0/45.3 MB ? eta -:--:--\n",
      "   ---------------------------------------- 0.1/45.3 MB 2.4 MB/s eta 0:00:19\n",
      "   ---------------------------------------- 0.4/45.3 MB 3.7 MB/s eta 0:00:13\n",
      "    --------------------------------------- 0.8/45.3 MB 6.2 MB/s eta 0:00:08\n",
      "   - -------------------------------------- 1.3/45.3 MB 7.7 MB/s eta 0:00:06\n",
      "   - -------------------------------------- 1.9/45.3 MB 8.5 MB/s eta 0:00:06\n",
      "   -- ------------------------------------- 2.4/45.3 MB 9.0 MB/s eta 0:00:05\n",
      "   -- ------------------------------------- 2.9/45.3 MB 9.8 MB/s eta 0:00:05\n",
      "   --- ------------------------------------ 3.5/45.3 MB 9.8 MB/s eta 0:00:05\n",
      "   --- ------------------------------------ 4.0/45.3 MB 9.9 MB/s eta 0:00:05\n",
      "   ---- ----------------------------------- 4.6/45.3 MB 10.1 MB/s eta 0:00:05\n",
      "   ---- ----------------------------------- 5.2/45.3 MB 10.3 MB/s eta 0:00:04\n",
      "   ----- ---------------------------------- 5.7/45.3 MB 10.5 MB/s eta 0:00:04\n",
      "   ----- ---------------------------------- 6.2/45.3 MB 10.7 MB/s eta 0:00:04\n",
      "   ----- ---------------------------------- 6.8/45.3 MB 10.8 MB/s eta 0:00:04\n",
      "   ------ --------------------------------- 7.2/45.3 MB 10.7 MB/s eta 0:00:04\n",
      "   ------ --------------------------------- 7.7/45.3 MB 11.0 MB/s eta 0:00:04\n",
      "   ------- -------------------------------- 8.3/45.3 MB 11.0 MB/s eta 0:00:04\n",
      "   ------- -------------------------------- 8.9/45.3 MB 10.9 MB/s eta 0:00:04\n",
      "   -------- ------------------------------- 9.4/45.3 MB 11.0 MB/s eta 0:00:04\n",
      "   -------- ------------------------------- 9.9/45.3 MB 11.1 MB/s eta 0:00:04\n",
      "   --------- ------------------------------ 10.5/45.3 MB 11.7 MB/s eta 0:00:03\n",
      "   --------- ------------------------------ 11.0/45.3 MB 11.9 MB/s eta 0:00:03\n",
      "   ---------- ----------------------------- 11.5/45.3 MB 11.9 MB/s eta 0:00:03\n",
      "   ---------- ----------------------------- 12.1/45.3 MB 11.7 MB/s eta 0:00:03\n",
      "   ----------- ---------------------------- 12.7/45.3 MB 11.9 MB/s eta 0:00:03\n",
      "   ----------- ---------------------------- 13.2/45.3 MB 11.9 MB/s eta 0:00:03\n",
      "   ------------ --------------------------- 13.7/45.3 MB 11.7 MB/s eta 0:00:03\n",
      "   ------------ --------------------------- 14.2/45.3 MB 11.7 MB/s eta 0:00:03\n",
      "   ------------- -------------------------- 14.8/45.3 MB 11.7 MB/s eta 0:00:03\n",
      "   ------------- -------------------------- 15.3/45.3 MB 11.7 MB/s eta 0:00:03\n",
      "   -------------- ------------------------- 15.9/45.3 MB 11.7 MB/s eta 0:00:03\n",
      "   -------------- ------------------------- 16.4/45.3 MB 11.7 MB/s eta 0:00:03\n",
      "   -------------- ------------------------- 17.0/45.3 MB 11.7 MB/s eta 0:00:03\n",
      "   --------------- ------------------------ 17.5/45.3 MB 11.9 MB/s eta 0:00:03\n",
      "   --------------- ------------------------ 18.0/45.3 MB 11.9 MB/s eta 0:00:03\n",
      "   ---------------- ----------------------- 18.5/45.3 MB 11.7 MB/s eta 0:00:03\n",
      "   ---------------- ----------------------- 19.1/45.3 MB 11.9 MB/s eta 0:00:03\n",
      "   ----------------- ---------------------- 19.6/45.3 MB 11.7 MB/s eta 0:00:03\n",
      "   ----------------- ---------------------- 20.1/45.3 MB 11.7 MB/s eta 0:00:03\n",
      "   ------------------ --------------------- 20.7/45.3 MB 11.7 MB/s eta 0:00:03\n",
      "   ------------------ --------------------- 21.2/45.3 MB 11.9 MB/s eta 0:00:03\n",
      "   ------------------- -------------------- 21.7/45.3 MB 11.9 MB/s eta 0:00:02\n",
      "   ------------------- -------------------- 22.2/45.3 MB 11.9 MB/s eta 0:00:02\n",
      "   -------------------- ------------------- 22.8/45.3 MB 11.9 MB/s eta 0:00:02\n",
      "   -------------------- ------------------- 23.3/45.3 MB 11.9 MB/s eta 0:00:02\n",
      "   --------------------- ------------------ 23.8/45.3 MB 11.7 MB/s eta 0:00:02\n",
      "   --------------------- ------------------ 24.4/45.3 MB 11.9 MB/s eta 0:00:02\n",
      "   ---------------------- ----------------- 25.0/45.3 MB 11.7 MB/s eta 0:00:02\n",
      "   ---------------------- ----------------- 25.5/45.3 MB 11.7 MB/s eta 0:00:02\n",
      "   ----------------------- ---------------- 26.1/45.3 MB 11.9 MB/s eta 0:00:02\n",
      "   ----------------------- ---------------- 26.6/45.3 MB 11.7 MB/s eta 0:00:02\n",
      "   ----------------------- ---------------- 27.1/45.3 MB 11.7 MB/s eta 0:00:02\n",
      "   ------------------------ --------------- 27.7/45.3 MB 11.9 MB/s eta 0:00:02\n",
      "   ------------------------ --------------- 28.2/45.3 MB 11.9 MB/s eta 0:00:02\n",
      "   ------------------------- -------------- 28.7/45.3 MB 11.9 MB/s eta 0:00:02\n",
      "   ------------------------- -------------- 29.3/45.3 MB 11.9 MB/s eta 0:00:02\n",
      "   -------------------------- ------------- 29.8/45.3 MB 11.9 MB/s eta 0:00:02\n",
      "   -------------------------- ------------- 30.3/45.3 MB 11.7 MB/s eta 0:00:02\n",
      "   --------------------------- ------------ 30.8/45.3 MB 11.9 MB/s eta 0:00:02\n",
      "   --------------------------- ------------ 31.3/45.3 MB 11.7 MB/s eta 0:00:02\n",
      "   ---------------------------- ----------- 31.8/45.3 MB 11.7 MB/s eta 0:00:02\n",
      "   ---------------------------- ----------- 32.3/45.3 MB 11.7 MB/s eta 0:00:02\n",
      "   ----------------------------- ---------- 32.8/45.3 MB 11.7 MB/s eta 0:00:02\n",
      "   ----------------------------- ---------- 33.3/45.3 MB 11.9 MB/s eta 0:00:02\n",
      "   ----------------------------- ---------- 33.9/45.3 MB 11.9 MB/s eta 0:00:01\n",
      "   ------------------------------ --------- 34.3/45.3 MB 11.7 MB/s eta 0:00:01\n",
      "   ------------------------------ --------- 34.8/45.3 MB 11.9 MB/s eta 0:00:01\n",
      "   ------------------------------- -------- 35.4/45.3 MB 11.9 MB/s eta 0:00:01\n",
      "   ------------------------------- -------- 35.8/45.3 MB 11.7 MB/s eta 0:00:01\n",
      "   -------------------------------- ------- 36.4/45.3 MB 11.7 MB/s eta 0:00:01\n",
      "   -------------------------------- ------- 36.9/45.3 MB 11.7 MB/s eta 0:00:01\n",
      "   --------------------------------- ------ 37.5/45.3 MB 11.7 MB/s eta 0:00:01\n",
      "   --------------------------------- ------ 38.0/45.3 MB 11.7 MB/s eta 0:00:01\n",
      "   ---------------------------------- ----- 38.6/45.3 MB 11.9 MB/s eta 0:00:01\n",
      "   ---------------------------------- ----- 39.2/45.3 MB 11.9 MB/s eta 0:00:01\n",
      "   ---------------------------------- ----- 39.6/45.3 MB 11.9 MB/s eta 0:00:01\n",
      "   ----------------------------------- ---- 40.2/45.3 MB 11.9 MB/s eta 0:00:01\n",
      "   ----------------------------------- ---- 40.7/45.3 MB 11.9 MB/s eta 0:00:01\n",
      "   ------------------------------------ --- 41.3/45.3 MB 11.9 MB/s eta 0:00:01\n",
      "   ------------------------------------ --- 41.8/45.3 MB 11.9 MB/s eta 0:00:01\n",
      "   ------------------------------------- -- 42.3/45.3 MB 11.9 MB/s eta 0:00:01\n",
      "   ------------------------------------- -- 42.9/45.3 MB 11.9 MB/s eta 0:00:01\n",
      "   -------------------------------------- - 43.4/45.3 MB 11.9 MB/s eta 0:00:01\n",
      "   -------------------------------------- - 44.0/45.3 MB 11.9 MB/s eta 0:00:01\n",
      "   ---------------------------------------  44.6/45.3 MB 11.9 MB/s eta 0:00:01\n",
      "   ---------------------------------------  45.1/45.3 MB 11.9 MB/s eta 0:00:01\n",
      "   ---------------------------------------  45.3/45.3 MB 11.9 MB/s eta 0:00:01\n",
      "   ---------------------------------------  45.3/45.3 MB 11.9 MB/s eta 0:00:01\n",
      "   ---------------------------------------- 45.3/45.3 MB 10.4 MB/s eta 0:00:00\n",
      "Installing collected packages: opencv-contrib-python\n",
      "Successfully installed opencv-contrib-python-4.9.0.80\n",
      "Note: you may need to restart the kernel to use updated packages.\n"
     ]
    }
   ],
   "source": [
    "pip install opencv-contrib-python"
   ]
  },
  {
   "cell_type": "code",
   "execution_count": null,
   "metadata": {},
   "outputs": [],
   "source": []
  }
 ],
 "metadata": {
  "kernelspec": {
   "display_name": "base",
   "language": "python",
   "name": "python3"
  },
  "language_info": {
   "codemirror_mode": {
    "name": "ipython",
    "version": 3
   },
   "file_extension": ".py",
   "mimetype": "text/x-python",
   "name": "python",
   "nbconvert_exporter": "python",
   "pygments_lexer": "ipython3",
   "version": "3.10.11"
  }
 },
 "nbformat": 4,
 "nbformat_minor": 2
}
